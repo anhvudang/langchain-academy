{
 "cells": [
  {
   "cell_type": "markdown",
   "id": "fb0ebaf1",
   "metadata": {},
   "source": [
    "[![Open in Colab](https://colab.research.google.com/assets/colab-badge.svg)](https://colab.research.google.com/github/langchain-ai/langchain-academy/blob/main/module-2/trim-filter-messages.ipynb) [![Open in LangChain Academy](https://cdn.prod.website-files.com/65b8cd72835ceeacd4449a53/66e9eba12c7b7688aa3dbb5e_LCA-badge-green.svg)](https://academy.langchain.com/courses/take/intro-to-langgraph/lessons/58239435-lesson-4-trim-and-filter-messages)"
   ]
  },
  {
   "cell_type": "code",
   "execution_count": 49,
   "id": "d5197aba-5d46-421b-ae3b-4e3034edcfda",
   "metadata": {},
   "outputs": [],
   "source": [
    "%%capture --no-stderr\n",
    "%pip install --quiet -U langchain_core langgraph langchain_openai"
   ]
  },
  {
   "cell_type": "code",
   "execution_count": 50,
   "id": "768dc606-d5f2-468d-96ea-910b264e0f8a",
   "metadata": {},
   "outputs": [],
   "source": [
    "import os, getpass\n",
    "\n",
    "def _set_env(var: str):\n",
    "    if not os.environ.get(var):\n",
    "        os.environ[var] = getpass.getpass(f\"{var}: \")\n",
    "\n",
    "_set_env(\"OPENAI_API_KEY\")"
   ]
  },
  {
   "cell_type": "code",
   "execution_count": 51,
   "id": "dd020c79",
   "metadata": {},
   "outputs": [],
   "source": [
    "_set_env(\"LANGSMITH_API_KEY\")\n",
    "os.environ[\"LANGSMITH_TRACING\"] = \"true\"\n",
    "os.environ[\"LANGSMITH_PROJECT\"] = \"langchain-academy\""
   ]
  },
  {
   "cell_type": "code",
   "execution_count": 52,
   "id": "88966a70",
   "metadata": {},
   "outputs": [],
   "source": [
    "from operator import add\n",
    "from typing import Annotated, TypedDict\n",
    "\n",
    "class Fact(TypedDict):\n",
    "    fact: str\n",
    "    understanding: str\n",
    "    support_facts: Annotated[list[str], add]\n",
    "    refuted_facts: Annotated[list[str], add]\n",
    "    final_result: str"
   ]
  },
  {
   "cell_type": "code",
   "execution_count": 53,
   "id": "62a30dc1",
   "metadata": {},
   "outputs": [],
   "source": [
    "from langchain_openai import ChatOpenAI\n",
    "gpt4o_chat = ChatOpenAI(model=\"gpt-4o\", temperature=0)"
   ]
  },
  {
   "cell_type": "code",
   "execution_count": 54,
   "id": "57eca8db",
   "metadata": {},
   "outputs": [
    {
     "data": {
      "image/png": "[encoded data removed]",
      "text/plain": [
       "<IPython.core.display.Image object>"
      ]
     },
     "metadata": {},
     "output_type": "display_data"
    }
   ],
   "source": [
    "import random\n",
    "from IPython.display import Image, display\n",
    "from langgraph.graph import StateGraph, START, END\n",
    "from langchain_core.messages import HumanMessage\n",
    "\n",
    "def node_get_understanding(fact: Fact) -> Fact:\n",
    "    print(\"---Node get understanding---\")\n",
    "    msg = HumanMessage(content=f\"What does ones imply when saying `{fact['fact']}`?\", name=\"User\")\n",
    "\n",
    "    # Message list\n",
    "    messages = [msg]\n",
    "\n",
    "    # Invoke the model with a list of messages \n",
    "    response = gpt4o_chat.invoke(messages)\n",
    "    return {\n",
    "        \"fact\": fact,\n",
    "        \"support_facts\": [],\n",
    "        \"refuted_facts\": [],\n",
    "        \"understanding\": response.content\n",
    "    }\n",
    "\n",
    "def node_get_support_facts(fact: Fact) -> Fact:\n",
    "    print(\"---Node get support facts---\")\n",
    "    msg = HumanMessage(content=f\"What are the facts that support the statement `{fact['fact']}`?\", name=\"User\")\n",
    "    messages = [msg]\n",
    "    response = gpt4o_chat.invoke(messages)\n",
    "    return {\n",
    "        \"support_facts\": [response.content],\n",
    "    }\n",
    "\n",
    "def node_get_refuted_facts(fact: Fact) -> Fact:\n",
    "    print(\"---Node get refuted facts---\")\n",
    "    msg = HumanMessage(content=f\"What are the facts that refute the statement `{fact['fact']}`?\", name=\"User\")\n",
    "    messages = [msg]\n",
    "    response = gpt4o_chat.invoke(messages)\n",
    "    return {\n",
    "        \"refuted_facts\": [response.content],\n",
    "    }\n",
    "\n",
    "def node_get_final_result(fact: Fact) -> Fact:\n",
    "    print(\"---Node get final result---\")\n",
    "    msg = HumanMessage(content=f\"\"\"\n",
    "                       What is the final result of the fact check for the statement `{fact['fact']}`?\n",
    "                            The support facts are: {fact['support_facts']}\n",
    "                            The refuted facts are: {fact['refuted_facts']}\n",
    "                            The understanding is: {fact['understanding']}\n",
    "                    \"\"\", name=\"User\")\n",
    "    messages = [msg]\n",
    "    response = gpt4o_chat.invoke(messages)\n",
    "    return {\n",
    "        \"final_result\": response.content\n",
    "    }\n",
    "\n",
    "# Build graph\n",
    "builder = StateGraph(Fact)\n",
    "builder.add_node(\"node_get_understanding\", node_get_understanding)\n",
    "builder.add_node(\"node_get_support_facts\", node_get_support_facts)\n",
    "builder.add_node(\"node_get_refuted_facts\", node_get_refuted_facts)\n",
    "builder.add_node(\"node_get_final_result\", node_get_final_result)\n",
    "\n",
    "# Logic\n",
    "builder.add_edge(START, \"node_get_understanding\")\n",
    "builder.add_edge(START, \"node_get_support_facts\")\n",
    "builder.add_edge(START, \"node_get_refuted_facts\")\n",
    "builder.add_edge(\"node_get_understanding\", \"node_get_final_result\")\n",
    "builder.add_edge(\"node_get_support_facts\", \"node_get_final_result\")\n",
    "builder.add_edge(\"node_get_refuted_facts\", \"node_get_final_result\")\n",
    "builder.add_edge(\"node_get_final_result\", END)\n",
    "\n",
    "# Add\n",
    "graph = builder.compile()\n",
    "\n",
    "# View\n",
    "display(Image(graph.get_graph().draw_mermaid_png()))"
   ]
  },
  {
   "cell_type": "code",
   "execution_count": 56,
   "id": "f06fe523",
   "metadata": {},
   "outputs": [
    {
     "name": "stdout",
     "output_type": "stream",
     "text": [
      "---Node get refuted facts------Node get support facts---\n",
      "\n",
      "---Node get understanding---\n",
      "---Node get final result---\n"
     ]
    },
    {
     "data": {
      "text/plain": [
       "{'fact': {'fact': 'Donal Trump is the US president after Obama',\n",
       "  'support_facts': [],\n",
       "  'refuted_facts': []},\n",
       " 'understanding': 'When someone says \"Donald Trump is the US president after Obama,\" they are indicating that Donald Trump succeeded Barack Obama as the President of the United States. Barack Obama served as the 44th president from January 20, 2009, to January 20, 2017. Donald Trump then became the 45th president, serving from January 20, 2017, to January 20, 2021. The statement is simply noting the chronological order of their presidencies.',\n",
       " 'support_facts': ['The statement \"Donald Trump is the US president after Obama\" is supported by the following facts:\\n\\n1. **Barack Obama\\'s Presidency**: Barack Obama served as the 44th President of the United States from January 20, 2009, to January 20, 2017. He completed two terms in office.\\n\\n2. **2016 Presidential Election**: Donald Trump ran as the Republican candidate in the 2016 presidential election. He won the election against the Democratic candidate, Hillary Clinton, securing the necessary Electoral College votes to become president.\\n\\n3. **Inauguration**: Donald Trump was inaugurated as the 45th President of the United States on January 20, 2017, immediately following the end of Barack Obama\\'s second term.\\n\\n4. **Presidential Term**: Donald Trump served as president from January 20, 2017, to January 20, 2021.\\n\\nThese facts establish the chronological order of the presidencies, with Donald Trump succeeding Barack Obama as President of the United States.'],\n",
       " 'refuted_facts': ['The statement \"Donald Trump is the US president after Obama\" is factually incorrect for the following reasons:\\n\\n1. **Barack Obama\\'s Presidency**: Barack Obama served as the 44th President of the United States from January 20, 2009, to January 20, 2017.\\n\\n2. **Donald Trump\\'s Presidency**: Donald Trump was inaugurated as the 45th President of the United States on January 20, 2017, succeeding Barack Obama. Therefore, he was indeed the president immediately following Obama.\\n\\n3. **Joe Biden\\'s Presidency**: Joe Biden was inaugurated as the 46th President of the United States on January 20, 2021, succeeding Donald Trump. As of this date, Joe Biden is the current president.\\n\\nThe statement is incorrect only if it implies that Donald Trump is currently the president after Obama, as Joe Biden is the current president following Trump\\'s term.'],\n",
       " 'final_result': 'The statement \"Donald Trump is the US president after Obama\" is factually correct in the context of chronological succession. The support facts clearly establish that Donald Trump succeeded Barack Obama as the President of the United States, serving as the 45th president immediately following Obama\\'s term as the 44th president. The refuted facts seem to address a potential misunderstanding if the statement were interpreted to mean that Trump is currently the president, which is not the case as of now, with Joe Biden serving as the 46th president. However, the original statement does not imply current presidency, only succession. Therefore, the final result of the fact check is that the statement is true in terms of historical succession.'}"
      ]
     },
     "execution_count": 56,
     "metadata": {},
     "output_type": "execute_result"
    }
   ],
   "source": [
    "graph.invoke({\"fact\": \"Donal Trump is the US president after Obama\"})"
   ]
  }
 ],
 "metadata": {
  "kernelspec": {
   "display_name": "lc-academy-env",
   "language": "python",
   "name": "python3"
  },
  "language_info": {
   "codemirror_mode": {
    "name": "ipython",
    "version": 3
   },
   "file_extension": ".py",
   "mimetype": "text/x-python",
   "name": "python",
   "nbconvert_exporter": "python",
   "pygments_lexer": "ipython3",
   "version": "3.13.3"
  }
 },
 "nbformat": 4,
 "nbformat_minor": 5
}
